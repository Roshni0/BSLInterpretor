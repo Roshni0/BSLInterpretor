{
 "cells": [
  {
   "cell_type": "code",
   "execution_count": 4,
   "id": "cfdc72e8",
   "metadata": {},
   "outputs": [
    {
     "data": {
      "text/plain": [
       "-1"
      ]
     },
     "execution_count": 4,
     "metadata": {},
     "output_type": "execute_result"
    }
   ],
   "source": [
    "from __future__ import print_function\n",
    "import cv2 as cv\n",
    "trackbar_type = 'Type: \\n 0: Binary \\n 1: Binary Inverted \\n 2: Truncate \\n 3: To Zero \\n 4: To Zero Inverted'\n",
    "trackbar_value = 'Value'\n",
    "window_name = 'Threshold Demo'\n",
    "def Threshold_Demo(val):\n",
    "    threshold_type = 1\n",
    "    threshold_value = 204\n",
    "    _, dst = cv.threshold(src_gray, threshold_value, 255, threshold_type )\n",
    "    cv.imshow(window_name, dst)\n",
    "src = cv.imread(\"hand.jpeg\")\n",
    "if src is None:\n",
    "    print('Could not open or find the image: ')\n",
    "    exit(0)\n",
    "# Convert the image to Gray\n",
    "src_gray = cv.cvtColor(src, cv.COLOR_BGR2GRAY)\n",
    "cv.namedWindow(window_name)\n",
    "# Call the function to initialize\n",
    "Threshold_Demo(0)\n",
    "# Wait until user finishes program\n",
    "cv.waitKey()"
   ]
  },
  {
   "cell_type": "code",
   "execution_count": 10,
   "id": "678caccc",
   "metadata": {},
   "outputs": [],
   "source": [
    "import cv2\n",
    "\n",
    "cap = cv2.VideoCapture(0)\n",
    "\n",
    "# Check if the webcam is opened correctly\n",
    "if not cap.isOpened():\n",
    "    raise IOError(\"Cannot open webcam\")\n",
    "count = 0\n",
    "while True:\n",
    "    ret, frame = cap.read()\n",
    "    frame = cv2.resize(frame, None, fx=0.5, fy=0.5, interpolation=cv2.INTER_AREA)\n",
    "    frame_gray = cv2.cvtColor(frame, cv2.COLOR_BGR2GRAY)\n",
    "    threshold_type = 1\n",
    "    threshold_value = 100\n",
    "    _, frame_dst = cv2.threshold(frame_gray, threshold_value, 255, threshold_type )\n",
    "    cv2.imshow('Input', frame_dst)\n",
    "    cv2.imwrite(\"mydata/testset/2/%d.jpg\" % count, frame_dst)     # save frame as JPEG file      \n",
    "    count += 1\n",
    "    c = cv2.waitKey(1)\n",
    "    if count > 250:\n",
    "        break\n",
    "    if c == 27:\n",
    "        break\n",
    "\n",
    "cap.release()\n",
    "cv2.destroyAllWindows()"
   ]
  },
  {
   "cell_type": "code",
   "execution_count": 23,
   "id": "fe8bc040",
   "metadata": {},
   "outputs": [
    {
     "name": "stdout",
     "output_type": "stream",
     "text": [
      "Shape of the image (240, 320, 3)\n"
     ]
    }
   ],
   "source": [
    "import cv2\n",
    "  \n",
    "# Read Input Image\n",
    "img = cv2.imread(\"1/1.jpg\")\n",
    "  \n",
    "# Check the type of read image\n",
    "print(\"Shape of the image\", img.shape)\n",
    "  \n",
    "crop = img[60:210, 60:190]  \n",
    "  \n",
    "cv2.imshow('original', img)\n",
    "cv2.imshow('cropped', crop)\n",
    "cv2.waitKey(0)\n",
    "cv2.destroyAllWindows()"
   ]
  },
  {
   "cell_type": "code",
   "execution_count": 1,
   "id": "183408ab",
   "metadata": {},
   "outputs": [
    {
     "name": "stdout",
     "output_type": "stream",
     "text": [
      "hidden due to privacy"
     ]
    },
    {
     "name": "stdout",
     "output_type": "stream",
     "text": [
      "hidden due to privacy"
     ]
    }
   ],
   "source": [
    "import os\n",
    "from os import listdir\n",
    "import cv2\n",
    "# get the path/directory\n",
    "folder_dir = r'C:\\Users\\usr\\Documents\\Durham\\Research\\BSL\\1'\n",
    "count = 1\n",
    "for images in os.listdir(folder_dir):\n",
    "        #print(images)\n",
    "        if (images.endswith(\".jpg\")):\n",
    "            path = folder_dir + '\\\\'+ images\n",
    "            print(path)\n",
    "            img = cv2.imread(path)\n",
    "            #cv2.imshow('original', img)\n",
    "            #cv2.imshow(img)\n",
    "            crop = img[60:210, 60:190] \n",
    "            cv2.imwrite(\"zoom/%d.jpg\" % count, crop)     # save frame as JPEG file      \n",
    "            count += 1"
   ]
  },
  {
   "cell_type": "code",
   "execution_count": 16,
   "id": "2a226657",
   "metadata": {},
   "outputs": [
    {
     "ename": "SyntaxError",
     "evalue": "EOF while scanning triple-quoted string literal (<ipython-input-16-7ca85857094b>, line 95)",
     "output_type": "error",
     "traceback": [
      "\u001b[1;36m  File \u001b[1;32m\"<ipython-input-16-7ca85857094b>\"\u001b[1;36m, line \u001b[1;32m95\u001b[0m\n\u001b[1;33m    plt.show()\u001b[0m\n\u001b[1;37m              \n^\u001b[0m\n\u001b[1;31mSyntaxError\u001b[0m\u001b[1;31m:\u001b[0m EOF while scanning triple-quoted string literal\n"
     ]
    }
   ],
   "source": [
    "# Part 1 - Building the CNN\n",
    "#importing the Keras libraries and packages\n",
    "from tensorflow import keras \n",
    "from tensorflow.keras.models import Sequential\n",
    "from tensorflow.keras.layers import Convolution2D\n",
    "from tensorflow.keras.layers import MaxPooling2D\n",
    "from tensorflow.keras.layers import Flatten\n",
    "from tensorflow.keras.layers import Dense, Dropout\n",
    "from tensorflow.keras import optimizers\n",
    "\n",
    "# Initialing the CNN\n",
    "classifier = Sequential()\n",
    "\n",
    "# Step 1 - Convolutio Layer \n",
    "classifier.add(Convolution2D(32, 3,  3, input_shape = (64, 64, 3), activation = 'relu'))\n",
    "\n",
    "#step 2 - Pooling\n",
    "classifier.add(MaxPooling2D(pool_size =(2,2)))\n",
    "\n",
    "# Adding second convolution layer\n",
    "classifier.add(Convolution2D(32, 3,  3, activation = 'relu'))\n",
    "classifier.add(MaxPooling2D(pool_size =(2,2)))\n",
    "\n",
    "#Adding 3rd Concolution Layer\n",
    "#classifier.add(Convolution2D(64, 3,  3, activation = 'relu'))\n",
    "#classifier.add(MaxPooling2D(pool_size =(2,2)))\n",
    "\n",
    "\n",
    "#Step 3 - Flattening\n",
    "classifier.add(Flatten())\n",
    "\n",
    "#Step 4 - Full Connection\n",
    "classifier.add(Dense(256, activation = 'relu'))\n",
    "classifier.add(Dropout(0.5))\n",
    "classifier.add(Dense(26, activation = 'softmax'))\n",
    "\n",
    "#Compiling The CNN\n",
    "classifier.compile(\n",
    "              optimizer = optimizers.SGD(lr = 0.01),\n",
    "              loss = 'categorical_crossentropy',\n",
    "              metrics = ['accuracy'])\n",
    "\n",
    "#Part 2 Fittting the CNN to the image\n",
    "from tensorflow.keras.preprocessing.image import ImageDataGenerator\n",
    "train_datagen = ImageDataGenerator(\n",
    "        rescale=1./255,\n",
    "        shear_range=0.2,\n",
    "        zoom_range=0.2,\n",
    "        horizontal_flip=True)\n",
    "\n",
    "test_datagen = ImageDataGenerator(rescale=1./255)\n",
    "\n",
    "training_set = train_datagen.flow_from_directory(\n",
    "        'mydata/trainingset',\n",
    "        target_size=(64, 64),\n",
    "        batch_size=32,\n",
    "        class_mode='categorical')\n",
    "\n",
    "test_set = test_datagen.flow_from_directory(\n",
    "        'mydata/testset',\n",
    "        target_size=(64, 64),\n",
    "        batch_size=32,\n",
    "        class_mode='categorical')\n",
    "\n",
    "''''model = classifier.fit_generator(\n",
    "        training_set,\n",
    "        steps_per_epoch=100,\n",
    "        epochs=2,\n",
    "        validation_data = test_set,\n",
    "        validation_steps = 200\n",
    "      )\n",
    "\n",
    "#Saving the model\n",
    "#import h5py\n",
    "#classifier.save('Trained_model.h5')\n",
    "\n",
    "print(model.history.keys())\n",
    "import matplotlib.pyplot as plt\n",
    "# summarize history for accuracy\n",
    "plt.plot(model.history['acc'])\n",
    "plt.plot(model.history['val_acc'])\n",
    "plt.title('model accuracy')\n",
    "plt.ylabel('accuracy')\n",
    "plt.xlabel('epoch')\n",
    "plt.legend(['train', 'test'], loc='upper left')\n",
    "plt.show()\n",
    "# summarize history for loss\n",
    "\n",
    "plt.plot(model.history['loss'])\n",
    "plt.plot(model.history['val_loss'])\n",
    "plt.title('model loss')\n",
    "plt.ylabel('loss')\n",
    "plt.xlabel('epoch')\n",
    "plt.legend(['train', 'test'], loc='upper left')\n",
    "plt.show()"
   ]
  }
 ],
 "metadata": {
  "kernelspec": {
   "display_name": "Python 3",
   "language": "python",
   "name": "python3"
  },
  "language_info": {
   "codemirror_mode": {
    "name": "ipython",
    "version": 3
   },
   "file_extension": ".py",
   "mimetype": "text/x-python",
   "name": "python",
   "nbconvert_exporter": "python",
   "pygments_lexer": "ipython3",
   "version": "3.8.8"
  }
 },
 "nbformat": 4,
 "nbformat_minor": 5
}
